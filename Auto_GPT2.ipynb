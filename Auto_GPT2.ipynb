{
  "cells": [
    {
      "cell_type": "markdown",
      "metadata": {
        "id": "view-in-github",
        "colab_type": "text"
      },
      "source": [
        "<a href=\"https://colab.research.google.com/github/sundarpa/process_automation/blob/main/Auto_GPT2.ipynb\" target=\"_parent\"><img src=\"https://colab.research.google.com/assets/colab-badge.svg\" alt=\"Open In Colab\"/></a>"
      ]
    },
    {
      "cell_type": "markdown",
      "metadata": {
        "id": "PPaMYMlfgfVB"
      },
      "source": [
        "#Step 1: Move Auto-GPT folder into google Mydrive folder and mout drive"
      ]
    },
    {
      "cell_type": "code",
      "execution_count": 3,
      "metadata": {
        "colab": {
          "base_uri": "https://localhost:8080/"
        },
        "id": "gN8SGBvRNl5N",
        "outputId": "02581c85-eb71-4411-8e5f-394ad4e1ff41"
      },
      "outputs": [
        {
          "output_type": "stream",
          "name": "stdout",
          "text": [
            "Drive already mounted at /content/drive; to attempt to forcibly remount, call drive.mount(\"/content/drive\", force_remount=True).\n",
            "/content/drive/MyDrive/Auto-GPT/Auto-GPT\n"
          ]
        }
      ],
      "source": [
        "from google.colab import drive\n",
        "drive.mount('/content/drive')\n",
        "%cd /content/drive/MyDrive/Auto-GPT/Auto-GPT"
      ]
    },
    {
      "cell_type": "code",
      "execution_count": 9,
      "metadata": {
        "colab": {
          "base_uri": "https://localhost:8080/"
        },
        "id": "IbIWFndBQGj8",
        "outputId": "0d0fe2a2-6e2f-4fa9-b28f-5fdb83269b3b"
      },
      "outputs": [
        {
          "output_type": "stream",
          "name": "stdout",
          "text": [
            "/content/drive/MyDrive/Auto-GPT/Auto-GPT\n"
          ]
        }
      ],
      "source": []
    },
    {
      "cell_type": "code",
      "execution_count": 4,
      "metadata": {
        "colab": {
          "base_uri": "https://localhost:8080/"
        },
        "id": "mCwyHPbKet9t",
        "outputId": "54da662e-b614-40f5-affc-c301d3551785"
      },
      "outputs": [
        {
          "output_type": "stream",
          "name": "stdout",
          "text": [
            "\u001b[0m\u001b[01;34marena\u001b[0m/        cli.py              \u001b[01;34mdocs\u001b[0m/      QUICKSTART.md  setup\n",
            "\u001b[01;34mautogpts\u001b[0m/     CLI-USAGE.md        \u001b[01;34mfrontend\u001b[0m/  README.md      setup.sh\n",
            "\u001b[01;34mbenchmark\u001b[0m/    CODE_OF_CONDUCT.md  LICENSE    run            TROUBLESHOOTING.md\n",
            "CITATION.cff  CONTRIBUTING.md     \u001b[01;34mplugins\u001b[0m/   SECURITY.md\n"
          ]
        }
      ],
      "source": [
        "ls"
      ]
    },
    {
      "cell_type": "markdown",
      "metadata": {
        "id": "ar7KEmRJgHLH"
      },
      "source": [
        "# Step 2: Clone Repo"
      ]
    },
    {
      "cell_type": "code",
      "execution_count": null,
      "metadata": {
        "id": "Mte29Etc0-78"
      },
      "outputs": [],
      "source": [
        "!git clone -b stable https://github.com/Significant-Gravitas/Auto-GPT.git"
      ]
    },
    {
      "cell_type": "markdown",
      "metadata": {
        "id": "G4EQd-0agTxC"
      },
      "source": [
        "# Optional Add plugins for Auto-GPT"
      ]
    },
    {
      "cell_type": "code",
      "execution_count": 5,
      "metadata": {
        "colab": {
          "base_uri": "https://localhost:8080/"
        },
        "id": "ewhSUo7xSmN8",
        "outputId": "ace4cd35-a3a6-4c04-e52a-35bd74e1cc06"
      },
      "outputs": [
        {
          "output_type": "stream",
          "name": "stdout",
          "text": [
            "--2024-04-03 03:40:02--  https://github.com/Significant-Gravitas/Auto-GPT-Plugins/archive/refs/heads/master.zip\n",
            "Resolving github.com (github.com)... 140.82.113.3\n",
            "Connecting to github.com (github.com)|140.82.113.3|:443... connected.\n",
            "HTTP request sent, awaiting response... 302 Found\n",
            "Location: https://codeload.github.com/Significant-Gravitas/Auto-GPT-Plugins/zip/refs/heads/master [following]\n",
            "--2024-04-03 03:40:03--  https://codeload.github.com/Significant-Gravitas/Auto-GPT-Plugins/zip/refs/heads/master\n",
            "Resolving codeload.github.com (codeload.github.com)... 140.82.113.10\n",
            "Connecting to codeload.github.com (codeload.github.com)|140.82.113.10|:443... connected.\n",
            "HTTP request sent, awaiting response... 200 OK\n",
            "Length: unspecified [application/zip]\n",
            "Saving to: ‘./plugins/Auto-GPT-Plugins.zip’\n",
            "\n",
            "./plugins/Auto-GPT-     [ <=>                ] 654.40K  --.-KB/s    in 0.08s   \n",
            "\n",
            "2024-04-03 03:40:03 (8.08 MB/s) - ‘./plugins/Auto-GPT-Plugins.zip’ saved [670107]\n",
            "\n"
          ]
        }
      ],
      "source": [
        "!mkdir -p ./plugins && wget -O ./plugins/Auto-GPT-Plugins.zip \"https://github.com/Significant-Gravitas/Auto-GPT-Plugins/archive/refs/heads/master.zip\""
      ]
    },
    {
      "cell_type": "markdown",
      "metadata": {
        "id": "j4sfsKD8i4zV"
      },
      "source": [
        "# Step 3: Run  Auto GPT\n",
        "\n"
      ]
    },
    {
      "cell_type": "code",
      "execution_count": 6,
      "metadata": {
        "id": "twTx8LEFTN7a"
      },
      "outputs": [],
      "source": [
        "!chmod +x ./run"
      ]
    },
    {
      "cell_type": "code",
      "execution_count": 8,
      "metadata": {
        "colab": {
          "base_uri": "https://localhost:8080/"
        },
        "id": "sZ6vSE6JSKxe",
        "outputId": "d69bfb48-783f-4b79-cef8-2b61cf26617b"
      },
      "outputs": [
        {
          "output_type": "stream",
          "name": "stdout",
          "text": [
            "Usage: cli.py [OPTIONS] COMMAND [ARGS]...\n",
            "\n",
            "Options:\n",
            "  --help  Show this message and exit.\n",
            "\n",
            "Commands:\n",
            "  agent      Commands to create, start and stop agents\n",
            "  arena      Commands to enter the arena\n",
            "  benchmark  Commands to start the benchmark and list tests and categories\n",
            "  setup      Installs dependencies needed for your system.\n"
          ]
        }
      ],
      "source": [
        "!./run"
      ]
    },
    {
      "cell_type": "code",
      "source": [
        "!chmod +x ./cli.py\n",
        "!python ./cli.py --help"
      ],
      "metadata": {
        "id": "UVx4S1ylDBf5",
        "outputId": "76c5680e-1114-4b14-eeca-84309654694d",
        "colab": {
          "base_uri": "https://localhost:8080/"
        }
      },
      "execution_count": 11,
      "outputs": [
        {
          "output_type": "stream",
          "name": "stdout",
          "text": [
            "Usage: cli.py [OPTIONS] COMMAND [ARGS]...\n",
            "\n",
            "Options:\n",
            "  --help  Show this message and exit.\n",
            "\n",
            "Commands:\n",
            "  agent      Commands to create, start and stop agents\n",
            "  arena      Commands to enter the arena\n",
            "  benchmark  Commands to start the benchmark and list tests and categories\n",
            "  setup      Installs dependencies needed for your system.\n"
          ]
        }
      ]
    },
    {
      "cell_type": "code",
      "source": [],
      "metadata": {
        "id": "nJQQ2ahsDGOj"
      },
      "execution_count": null,
      "outputs": []
    }
  ],
  "metadata": {
    "colab": {
      "collapsed_sections": [
        "G4EQd-0agTxC",
        "j4sfsKD8i4zV"
      ],
      "provenance": [],
      "include_colab_link": true
    },
    "kernelspec": {
      "display_name": "Python 3",
      "name": "python3"
    },
    "language_info": {
      "name": "python"
    }
  },
  "nbformat": 4,
  "nbformat_minor": 0
}